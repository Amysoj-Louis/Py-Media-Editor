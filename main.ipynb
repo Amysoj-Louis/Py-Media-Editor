{
  "nbformat": 4,
  "nbformat_minor": 0,
  "metadata": {
    "colab": {
      "provenance": [],
      "authorship_tag": "ABX9TyPj5NgmO52B89OXH/jdReye",
      "include_colab_link": true
    },
    "kernelspec": {
      "name": "python3",
      "display_name": "Python 3"
    },
    "language_info": {
      "name": "python"
    }
  },
  "cells": [
    {
      "cell_type": "markdown",
      "metadata": {
        "id": "view-in-github",
        "colab_type": "text"
      },
      "source": [
        "<a href=\"https://colab.research.google.com/github/Amysoj-Louis/Py-Media-Editor/blob/main/main.ipynb\" target=\"_parent\"><img src=\"https://colab.research.google.com/assets/colab-badge.svg\" alt=\"Open In Colab\"/></a>"
      ]
    },
    {
      "cell_type": "code",
      "execution_count": null,
      "metadata": {
        "id": "KnewpeRS6pW5"
      },
      "outputs": [],
      "source": [
        "!pip install pytubefix\n",
        "!pip install pydub"
      ]
    },
    {
      "cell_type": "code",
      "source": [
        "from pytubefix import YouTube\n",
        "import pydub\n",
        "import glob\n",
        "import os\n",
        "\n",
        "# Define constants\n",
        "SAVE_PATH = \"/content/\"\n",
        "\n",
        "\n",
        "def download_yt_video(link):\n",
        "    try:\n",
        "        yt = YouTube(link)\n",
        "        print(yt.streams)\n",
        "        mp4_streams = yt.streams.filter(only_audio=True)\n",
        "        print(mp4_streams)\n",
        "        d_video = mp4_streams[1]\n",
        "        d_video.download(output_path=SAVE_PATH)\n",
        "        print('Video downloaded successfully!')\n",
        "    except Exception as e:\n",
        "        print(f\"Error downloading video: {e}\")\n",
        "\n",
        "\n",
        "def convert_audio_files(start_time, end_time):\n",
        "    m4a_files = glob.glob('./*.m4a')\n",
        "    mp4_files = glob.glob('./*.mp4')\n",
        "    all_files = m4a_files + mp4_files\n",
        "\n",
        "    for file in all_files:\n",
        "        mp3_file = os.path.splitext(file)[0] + '.mp3'\n",
        "        try:\n",
        "            sound = pydub.AudioSegment.from_file(file)\n",
        "            print(f\"Converting: {file}\")\n",
        "            sound = sound[start_time:end_time]\n",
        "            sound.export(mp3_file, format=\"mp3\")\n",
        "            os.remove(file)\n",
        "            print(f\"Conversion Complete: {mp3_file}\")\n",
        "        except Exception as e:\n",
        "            print(f\"Error converting file {file}: {e}\")\n",
        "\n",
        "\n",
        "def combine_mp3_files():\n",
        "    mp3_files = glob.glob('./*.mp3')\n",
        "    combined = pydub.AudioSegment.empty()\n",
        "\n",
        "    for file in mp3_files:\n",
        "        try:\n",
        "            sound = pydub.AudioSegment.from_file(file)\n",
        "            combined += sound\n",
        "        except Exception as e:\n",
        "            print(f\"Error combining file {file}: {e}\")\n",
        "\n",
        "    combined.export(\"output.mp3\", format=\"mp3\")\n",
        "    print(\"Combined MP3 file created as output.mp3\")\n",
        "\n",
        "\n",
        "def main():\n",
        "    while True:\n",
        "        command = input(\"Enter command (download, crop, combine, exit): \").strip().lower()\n",
        "        if command == \"download\":\n",
        "            link = input(\"Enter the YouTube video link: \").strip()\n",
        "            download_yt_video(link)\n",
        "        elif command == \"crop\":\n",
        "            start_time = int(input(\"Enter the start time in milliseconds: \").strip())\n",
        "            end_time = int(input(\"Enter the end time in milliseconds: \").strip())\n",
        "            convert_audio_files(start_time, end_time)\n",
        "        elif command == \"combine\":\n",
        "            combine_mp3_files()\n",
        "        elif command == \"exit\":\n",
        "            break\n",
        "        else:\n",
        "            print(\"Invalid command. Please try again.\")\n",
        "\n",
        "\n",
        "if __name__ == \"__main__\":\n",
        "    main()\n"
      ],
      "metadata": {
        "id": "3hwEhAQu63JQ"
      },
      "execution_count": null,
      "outputs": []
    }
  ]
}